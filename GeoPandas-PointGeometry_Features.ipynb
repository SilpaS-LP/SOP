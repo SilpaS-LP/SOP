{
 "cells": [
  {
   "cell_type": "code",
   "execution_count": 1,
   "id": "3c77c37c",
   "metadata": {},
   "outputs": [],
   "source": [
    "import geopandas as gpd\n",
    "from shapely.geometry import Point"
   ]
  },
  {
   "cell_type": "code",
   "execution_count": 2,
   "id": "341f95b2",
   "metadata": {},
   "outputs": [],
   "source": [
    "# Read the shapefile containing the point geometry data\n",
    "data = gpd.read_file('PointData.shp')"
   ]
  },
  {
   "cell_type": "code",
   "execution_count": 3,
   "id": "5893e593",
   "metadata": {},
   "outputs": [],
   "source": [
    "# Define the projected CRS\n",
    "data = data.to_crs('EPSG:32618')"
   ]
  },
  {
   "cell_type": "code",
   "execution_count": 4,
   "id": "9778c59e",
   "metadata": {},
   "outputs": [],
   "source": [
    "# Define the coordinates of the POIs\n",
    "poi_hospital = Point(-71.74594, 12.00885)"
   ]
  },
  {
   "cell_type": "code",
   "execution_count": 5,
   "id": "2f591eb7",
   "metadata": {},
   "outputs": [],
   "source": [
    "# Shortest Distance to a POI\n",
    "data['Distance_to_Hospital'] = data['geometry'].distance(poi_hospital)"
   ]
  },
  {
   "cell_type": "code",
   "execution_count": 6,
   "id": "f03ad85a",
   "metadata": {},
   "outputs": [],
   "source": [
    "# Nearest POI among all POIs\n",
    "data['Distance_to_Nearest_Competitor'] = data['geometry'].apply(lambda point: data[data.geometry.distance(point) > 0]['geometry'].distance(point).min())"
   ]
  },
  {
   "cell_type": "code",
   "execution_count": 7,
   "id": "04598529",
   "metadata": {},
   "outputs": [],
   "source": [
    "# Time to Reach Nearest POI (Assuming travel time in minutes)\n",
    "travel_speed = 50  # Specify the travel speed in your desired unit\n",
    "data['Time_to_Nearest_POI'] = data['Distance_to_Nearest_Competitor'] / travel_speed * 60"
   ]
  },
  {
   "cell_type": "code",
   "execution_count": 8,
   "id": "b1f121aa",
   "metadata": {},
   "outputs": [],
   "source": [
    "# Average Distance to Nearest POI\n",
    "data['Average_Distance_to_POI'] = data['geometry'].apply(lambda point: data[data.geometry.distance(point) > 0]['geometry'].distance(point).mean())"
   ]
  },
  {
   "cell_type": "code",
   "execution_count": 10,
   "id": "b9223cb0",
   "metadata": {},
   "outputs": [],
   "source": [
    "# Number of POIs in a Radius\n",
    "radius = 90000 # Specify the radius in your desired unit\n",
    "data['Num_Hospitals'] = data['geometry'].apply(lambda point: len(data[data['geometry'].distance(point) <= radius]))"
   ]
  },
  {
   "cell_type": "code",
   "execution_count": 11,
   "id": "7f904d9a",
   "metadata": {},
   "outputs": [],
   "source": [
    "# Density of POIs\n",
    "data['POI_Density'] = data['geometry'].apply(lambda point: len(data[data['geometry'].distance(point) <= radius]) / (3.14159 * radius**2))"
   ]
  },
  {
   "cell_type": "code",
   "execution_count": 12,
   "id": "9a3b7e74",
   "metadata": {},
   "outputs": [],
   "source": [
    "# Extraction of Zip Code\n",
    "# Function to extract the zip code\n",
    "def get_zip_code(point):\n",
    "    # Perform a lookup or geocoding to retrieve the zip code based on the coordinates\n",
    "    # This is a fictional example, you would need to replace this with your actual logic\n",
    "    if point.x > 800000:\n",
    "        return '110001'\n",
    "    else:\n",
    "        return '200001'\n",
    "\n",
    "# Apply the get_zip_code function to the 'geometry' column\n",
    "data['Zip_Code'] = data['geometry'].apply(get_zip_code)"
   ]
  },
  {
   "cell_type": "code",
   "execution_count": 14,
   "id": "5257a60a",
   "metadata": {},
   "outputs": [
    {
     "data": {
      "text/html": [
       "<div>\n",
       "<style scoped>\n",
       "    .dataframe tbody tr th:only-of-type {\n",
       "        vertical-align: middle;\n",
       "    }\n",
       "\n",
       "    .dataframe tbody tr th {\n",
       "        vertical-align: top;\n",
       "    }\n",
       "\n",
       "    .dataframe thead th {\n",
       "        text-align: right;\n",
       "    }\n",
       "</style>\n",
       "<table border=\"1\" class=\"dataframe\">\n",
       "  <thead>\n",
       "    <tr style=\"text-align: right;\">\n",
       "      <th></th>\n",
       "      <th>ID</th>\n",
       "      <th>ADM0</th>\n",
       "      <th>ADM1</th>\n",
       "      <th>ADM2</th>\n",
       "      <th>geometry</th>\n",
       "      <th>Distance_to_Hospital</th>\n",
       "      <th>Distance_to_Nearest_Competitor</th>\n",
       "      <th>Time_to_Nearest_POI</th>\n",
       "      <th>Average_Distance_to_POI</th>\n",
       "      <th>Num_Hospitals</th>\n",
       "      <th>POI_Density</th>\n",
       "      <th>Zip_Code</th>\n",
       "    </tr>\n",
       "  </thead>\n",
       "  <tbody>\n",
       "    <tr>\n",
       "      <th>0</th>\n",
       "      <td>1</td>\n",
       "      <td>COLOMBIA</td>\n",
       "      <td>Guajira</td>\n",
       "      <td>URIBIA</td>\n",
       "      <td>POINT (854397.657 1329628.297)</td>\n",
       "      <td>1.580505e+06</td>\n",
       "      <td>100784.053792</td>\n",
       "      <td>120940.864550</td>\n",
       "      <td>807217.198830</td>\n",
       "      <td>1</td>\n",
       "      <td>3.929755e-11</td>\n",
       "      <td>110001</td>\n",
       "    </tr>\n",
       "    <tr>\n",
       "      <th>1</th>\n",
       "      <td>2</td>\n",
       "      <td>COLOMBIA</td>\n",
       "      <td>Guajira</td>\n",
       "      <td>MANAURE</td>\n",
       "      <td>POINT (765531.781 1281437.711)</td>\n",
       "      <td>1.492716e+06</td>\n",
       "      <td>36981.088073</td>\n",
       "      <td>44377.305688</td>\n",
       "      <td>731555.119084</td>\n",
       "      <td>5</td>\n",
       "      <td>1.964878e-10</td>\n",
       "      <td>200001</td>\n",
       "    </tr>\n",
       "    <tr>\n",
       "      <th>2</th>\n",
       "      <td>3</td>\n",
       "      <td>COLOMBIA</td>\n",
       "      <td>Guajira</td>\n",
       "      <td>MAICAO</td>\n",
       "      <td>POINT (789051.451 1252899.561)</td>\n",
       "      <td>1.480690e+06</td>\n",
       "      <td>36981.088073</td>\n",
       "      <td>44377.305688</td>\n",
       "      <td>714695.845299</td>\n",
       "      <td>6</td>\n",
       "      <td>2.357853e-10</td>\n",
       "      <td>200001</td>\n",
       "    </tr>\n",
       "    <tr>\n",
       "      <th>3</th>\n",
       "      <td>4</td>\n",
       "      <td>COLOMBIA</td>\n",
       "      <td>Guajira</td>\n",
       "      <td>RIOHACHA</td>\n",
       "      <td>POINT (702989.725 1233479.337)</td>\n",
       "      <td>1.419767e+06</td>\n",
       "      <td>45182.207456</td>\n",
       "      <td>54218.648947</td>\n",
       "      <td>669990.343320</td>\n",
       "      <td>11</td>\n",
       "      <td>4.322731e-10</td>\n",
       "      <td>200001</td>\n",
       "    </tr>\n",
       "    <tr>\n",
       "      <th>4</th>\n",
       "      <td>5</td>\n",
       "      <td>COLOMBIA</td>\n",
       "      <td>Magdalena</td>\n",
       "      <td>SITIONUEVO</td>\n",
       "      <td>POINT (538736.580 1203236.052)</td>\n",
       "      <td>1.318356e+06</td>\n",
       "      <td>15642.785976</td>\n",
       "      <td>18771.343171</td>\n",
       "      <td>620626.638077</td>\n",
       "      <td>40</td>\n",
       "      <td>1.571902e-09</td>\n",
       "      <td>200001</td>\n",
       "    </tr>\n",
       "  </tbody>\n",
       "</table>\n",
       "</div>"
      ],
      "text/plain": [
       "   ID      ADM0       ADM1        ADM2                        geometry  \\\n",
       "0   1  COLOMBIA    Guajira      URIBIA  POINT (854397.657 1329628.297)   \n",
       "1   2  COLOMBIA    Guajira     MANAURE  POINT (765531.781 1281437.711)   \n",
       "2   3  COLOMBIA    Guajira      MAICAO  POINT (789051.451 1252899.561)   \n",
       "3   4  COLOMBIA    Guajira    RIOHACHA  POINT (702989.725 1233479.337)   \n",
       "4   5  COLOMBIA  Magdalena  SITIONUEVO  POINT (538736.580 1203236.052)   \n",
       "\n",
       "   Distance_to_Hospital  Distance_to_Nearest_Competitor  Time_to_Nearest_POI  \\\n",
       "0          1.580505e+06                   100784.053792        120940.864550   \n",
       "1          1.492716e+06                    36981.088073         44377.305688   \n",
       "2          1.480690e+06                    36981.088073         44377.305688   \n",
       "3          1.419767e+06                    45182.207456         54218.648947   \n",
       "4          1.318356e+06                    15642.785976         18771.343171   \n",
       "\n",
       "   Average_Distance_to_POI  Num_Hospitals   POI_Density Zip_Code  \n",
       "0            807217.198830              1  3.929755e-11   110001  \n",
       "1            731555.119084              5  1.964878e-10   200001  \n",
       "2            714695.845299              6  2.357853e-10   200001  \n",
       "3            669990.343320             11  4.322731e-10   200001  \n",
       "4            620626.638077             40  1.571902e-09   200001  "
      ]
     },
     "execution_count": 14,
     "metadata": {},
     "output_type": "execute_result"
    }
   ],
   "source": [
    "data.head()"
   ]
  },
  {
   "cell_type": "code",
   "execution_count": null,
   "id": "a91f058c",
   "metadata": {},
   "outputs": [],
   "source": []
  }
 ],
 "metadata": {
  "kernelspec": {
   "display_name": "Python 3 (ipykernel)",
   "language": "python",
   "name": "python3"
  },
  "language_info": {
   "codemirror_mode": {
    "name": "ipython",
    "version": 3
   },
   "file_extension": ".py",
   "mimetype": "text/x-python",
   "name": "python",
   "nbconvert_exporter": "python",
   "pygments_lexer": "ipython3",
   "version": "3.9.13"
  }
 },
 "nbformat": 4,
 "nbformat_minor": 5
}
