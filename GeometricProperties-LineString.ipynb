{
 "cells": [
  {
   "cell_type": "code",
   "execution_count": 1,
   "id": "caad20c9",
   "metadata": {},
   "outputs": [],
   "source": [
    "import geopandas as gpd\n",
    "from shapely.geometry import Point, LineString"
   ]
  },
  {
   "cell_type": "code",
   "execution_count": 2,
   "id": "ce5270bd",
   "metadata": {},
   "outputs": [
    {
     "data": {
      "image/svg+xml": [
       "<svg xmlns=\"http://www.w3.org/2000/svg\" xmlns:xlink=\"http://www.w3.org/1999/xlink\" width=\"100.0\" height=\"100.0\" viewBox=\"-0.08 -0.08 2.16 2.16\" preserveAspectRatio=\"xMinYMin meet\"><g transform=\"matrix(1,0,0,-1,0,2.0)\"><polyline fill=\"none\" stroke=\"#66cc99\" stroke-width=\"0.0432\" points=\"0.0,0.0 1.0,1.0 2.0,2.0\" opacity=\"0.8\" /></g></svg>"
      ],
      "text/plain": [
       "<LINESTRING (0 0, 1 1, 2 2)>"
      ]
     },
     "execution_count": 2,
     "metadata": {},
     "output_type": "execute_result"
    }
   ],
   "source": [
    "# Create a LineString object\n",
    "line = LineString([(0, 0), (1, 1), (2, 2)])\n",
    "line"
   ]
  },
  {
   "cell_type": "code",
   "execution_count": 3,
   "id": "693a75f9",
   "metadata": {},
   "outputs": [
    {
     "name": "stdout",
     "output_type": "stream",
     "text": [
      "Length: 2.8284271247461903\n"
     ]
    }
   ],
   "source": [
    "# Calculate the length of the LineString\n",
    "length = line.length\n",
    "print(\"Length:\", length)"
   ]
  },
  {
   "cell_type": "code",
   "execution_count": 4,
   "id": "abbfb1ce",
   "metadata": {},
   "outputs": [
    {
     "name": "stdout",
     "output_type": "stream",
     "text": [
      "Centroid: POINT (1 1)\n"
     ]
    }
   ],
   "source": [
    "# Calculate the centroid of the LineString\n",
    "centroid = line.centroid\n",
    "print(\"Centroid:\", centroid)"
   ]
  },
  {
   "cell_type": "code",
   "execution_count": 5,
   "id": "980f029a",
   "metadata": {},
   "outputs": [
    {
     "name": "stdout",
     "output_type": "stream",
     "text": [
      "Bounds: (0.0, 0.0, 2.0, 2.0)\n"
     ]
    }
   ],
   "source": [
    "# Calculate the bounding box of the LineString\n",
    "bounds = line.bounds\n",
    "print(\"Bounds:\", bounds)"
   ]
  },
  {
   "cell_type": "code",
   "execution_count": 6,
   "id": "e4bc552a",
   "metadata": {},
   "outputs": [
    {
     "name": "stdout",
     "output_type": "stream",
     "text": [
      "Distance: 0.7071067811865476\n"
     ]
    }
   ],
   "source": [
    "# Create a Point object\n",
    "point = Point(1, 2)\n",
    "\n",
    "# Calculate the distance between the LineString and the Point\n",
    "distance = line.distance(point)\n",
    "print(\"Distance:\", distance)"
   ]
  },
  {
   "cell_type": "code",
   "execution_count": 7,
   "id": "9339287d",
   "metadata": {},
   "outputs": [
    {
     "name": "stdout",
     "output_type": "stream",
     "text": [
      "Intersection: POINT (1 1)\n"
     ]
    }
   ],
   "source": [
    "# Create another LineString object\n",
    "line2 = LineString([(1, 0), (1, 2)])\n",
    "\n",
    "# Calculate the intersection between the two LineString objects\n",
    "intersection = line.intersection(line2)\n",
    "print(\"Intersection:\", intersection)"
   ]
  },
  {
   "cell_type": "code",
   "execution_count": 8,
   "id": "833b8228",
   "metadata": {},
   "outputs": [
    {
     "name": "stdout",
     "output_type": "stream",
     "text": [
      "Simplified LineString: LINESTRING (0 0, 2 2)\n"
     ]
    }
   ],
   "source": [
    "# Simplify the LineString object\n",
    "simplified_line = line.simplify(0.5)\n",
    "print(\"Simplified LineString:\", simplified_line)"
   ]
  },
  {
   "cell_type": "code",
   "execution_count": 9,
   "id": "94224109",
   "metadata": {},
   "outputs": [
    {
     "name": "stdout",
     "output_type": "stream",
     "text": [
      "Convex Hull: LINESTRING (0 0, 2 2)\n"
     ]
    }
   ],
   "source": [
    "# Calculate the convex hull of the LineString\n",
    "convex_hull = line.convex_hull\n",
    "print(\"Convex Hull:\", convex_hull)"
   ]
  },
  {
   "cell_type": "code",
   "execution_count": 10,
   "id": "cb6654bd",
   "metadata": {},
   "outputs": [
    {
     "name": "stdout",
     "output_type": "stream",
     "text": [
      "Buffer: 0    POLYGON ((1.85858 2.14142, 1.87312 2.15460, 1....\n",
      "1    POLYGON ((0.80000 2.00000, 0.80096 2.01960, 0....\n",
      "dtype: geometry\n"
     ]
    }
   ],
   "source": [
    "# Create a MultiLineString object\n",
    "multi_line = gpd.GeoSeries([line, line2])\n",
    "\n",
    "# Create a buffer zone around the MultiLineString\n",
    "buffer = multi_line.buffer(0.2)\n",
    "print(\"Buffer:\", buffer)"
   ]
  },
  {
   "cell_type": "code",
   "execution_count": null,
   "id": "2fbb1c97",
   "metadata": {},
   "outputs": [],
   "source": []
  }
 ],
 "metadata": {
  "kernelspec": {
   "display_name": "Python 3 (ipykernel)",
   "language": "python",
   "name": "python3"
  },
  "language_info": {
   "codemirror_mode": {
    "name": "ipython",
    "version": 3
   },
   "file_extension": ".py",
   "mimetype": "text/x-python",
   "name": "python",
   "nbconvert_exporter": "python",
   "pygments_lexer": "ipython3",
   "version": "3.9.13"
  }
 },
 "nbformat": 4,
 "nbformat_minor": 5
}
