{
 "cells": [
  {
   "cell_type": "code",
   "execution_count": 1,
   "id": "95fe7522",
   "metadata": {},
   "outputs": [],
   "source": [
    "import geopandas as gpd\n",
    "from shapely.geometry import Point, LineString, Polygon"
   ]
  },
  {
   "cell_type": "code",
   "execution_count": 2,
   "id": "9c68f7b5",
   "metadata": {},
   "outputs": [],
   "source": [
    "# Create a GeoDataFrame for the area of interest (AOI)\n",
    "aoi_geometry = Polygon([(0, 0), (0, 10), (10, 10), (10, 0)])\n",
    "aoi_df = gpd.GeoDataFrame(geometry=[aoi_geometry])"
   ]
  },
  {
   "cell_type": "code",
   "execution_count": 3,
   "id": "b0543528",
   "metadata": {},
   "outputs": [],
   "source": [
    "# Create a GeoDataFrame for the area of interest (AOI)\n",
    "aoi_geometry = Polygon([(0, 0), (0, 10), (10, 10), (10, 0)])\n",
    "aoi_df = gpd.GeoDataFrame(geometry=[aoi_geometry])\n",
    "\n",
    "# Create a GeoDataFrame for the points\n",
    "points = [Point(1, 1), Point(2, 2), Point(5, 5)]\n",
    "points_df = gpd.GeoDataFrame(geometry=points)\n",
    "\n",
    "# Create a GeoDataFrame for the lines\n",
    "lines = [LineString([(0, 0), (2, 2)]), LineString([(4, 4), (6, 6)]), LineString([(8, 8), (10, 10)])]\n",
    "lines_df = gpd.GeoDataFrame(geometry=lines)\n",
    "\n",
    "# Create a GeoDataFrame for the polygons\n",
    "polygons = [Polygon([(1, 1), (1, 3), (3, 3), (3, 1)]), Polygon([(6, 6), (6, 8), (8, 8), (8, 6)])]\n",
    "polygons_df = gpd.GeoDataFrame(geometry=polygons)"
   ]
  },
  {
   "cell_type": "code",
   "execution_count": 4,
   "id": "18719cbe",
   "metadata": {},
   "outputs": [],
   "source": [
    "# Perform spatial join to count features within AOI\n",
    "points_within_aoi = gpd.sjoin(points_df, aoi_df, predicate='within')\n",
    "lines_within_aoi = gpd.sjoin(lines_df, aoi_df, predicate='intersects')\n",
    "polygons_within_aoi = gpd.sjoin(polygons_df, aoi_df, predicate='intersects')"
   ]
  },
  {
   "cell_type": "code",
   "execution_count": 5,
   "id": "e53a5c48",
   "metadata": {},
   "outputs": [],
   "source": [
    "# Count the number of points, lines, and polygons within AOI\n",
    "point_count = len(points_within_aoi)\n",
    "line_count = len(lines_within_aoi)\n",
    "polygon_count = len(polygons_within_aoi)"
   ]
  },
  {
   "cell_type": "code",
   "execution_count": 6,
   "id": "39aef867",
   "metadata": {},
   "outputs": [
    {
     "name": "stdout",
     "output_type": "stream",
     "text": [
      "Number of points within AOI: 3\n",
      "Number of lines within AOI: 3\n",
      "Number of polygons within AOI: 2\n"
     ]
    }
   ],
   "source": [
    "print(\"Number of points within AOI:\", point_count)\n",
    "print(\"Number of lines within AOI:\", line_count)\n",
    "print(\"Number of polygons within AOI:\", polygon_count)"
   ]
  }
 ],
 "metadata": {
  "kernelspec": {
   "display_name": "Python 3 (ipykernel)",
   "language": "python",
   "name": "python3"
  },
  "language_info": {
   "codemirror_mode": {
    "name": "ipython",
    "version": 3
   },
   "file_extension": ".py",
   "mimetype": "text/x-python",
   "name": "python",
   "nbconvert_exporter": "python",
   "pygments_lexer": "ipython3",
   "version": "3.9.13"
  }
 },
 "nbformat": 4,
 "nbformat_minor": 5
}
