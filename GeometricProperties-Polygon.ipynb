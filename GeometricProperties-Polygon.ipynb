{
 "cells": [
  {
   "cell_type": "code",
   "execution_count": 1,
   "id": "685cc0e0",
   "metadata": {},
   "outputs": [],
   "source": [
    "import geopandas as gpd\n",
    "from shapely.geometry import Polygon, MultiPolygon, Point"
   ]
  },
  {
   "cell_type": "code",
   "execution_count": 2,
   "id": "62f1c477",
   "metadata": {},
   "outputs": [
    {
     "data": {
      "image/svg+xml": [
       "<svg xmlns=\"http://www.w3.org/2000/svg\" xmlns:xlink=\"http://www.w3.org/1999/xlink\" width=\"100.0\" height=\"100.0\" viewBox=\"-0.04 -0.04 1.08 1.08\" preserveAspectRatio=\"xMinYMin meet\"><g transform=\"matrix(1,0,0,-1,0,1.0)\"><path fill-rule=\"evenodd\" fill=\"#66cc99\" stroke=\"#555555\" stroke-width=\"0.0216\" opacity=\"0.6\" d=\"M 0.0,0.0 L 0.0,1.0 L 1.0,1.0 L 1.0,0.0 L 0.0,0.0 z\" /></g></svg>"
      ],
      "text/plain": [
       "<POLYGON ((0 0, 0 1, 1 1, 1 0, 0 0))>"
      ]
     },
     "execution_count": 2,
     "metadata": {},
     "output_type": "execute_result"
    }
   ],
   "source": [
    "Polygon([(0, 0), (0, 1), (1, 1), (1, 0)])"
   ]
  },
  {
   "cell_type": "code",
   "execution_count": 3,
   "id": "70f56fdc",
   "metadata": {},
   "outputs": [
    {
     "data": {
      "image/svg+xml": [
       "<svg xmlns=\"http://www.w3.org/2000/svg\" xmlns:xlink=\"http://www.w3.org/1999/xlink\" width=\"100.0\" height=\"100.0\" viewBox=\"-0.08 -0.08 2.16 2.16\" preserveAspectRatio=\"xMinYMin meet\"><g transform=\"matrix(1,0,0,-1,0,2.0)\"><g><path fill-rule=\"evenodd\" fill=\"#66cc99\" stroke=\"#555555\" stroke-width=\"0.0432\" opacity=\"0.6\" d=\"M 0.0,0.0 L 0.0,1.0 L 1.0,1.0 L 1.0,0.0 L 0.0,0.0 z\" /><path fill-rule=\"evenodd\" fill=\"#66cc99\" stroke=\"#555555\" stroke-width=\"0.0432\" opacity=\"0.6\" d=\"M 1.0,1.0 L 1.0,2.0 L 2.0,2.0 L 2.0,1.0 L 1.0,1.0 z\" /></g></g></svg>"
      ],
      "text/plain": [
       "<MULTIPOLYGON (((0 0, 0 1, 1 1, 1 0, 0 0)), ((1 1, 1 2, 2 2, 2 1, 1 1)))>"
      ]
     },
     "execution_count": 3,
     "metadata": {},
     "output_type": "execute_result"
    }
   ],
   "source": [
    "MultiPolygon([Polygon([(0, 0), (0, 1), (1, 1), (1, 0)]), Polygon([(1, 1), (1, 2), (2, 2), (2, 1)])])"
   ]
  },
  {
   "cell_type": "code",
   "execution_count": 4,
   "id": "d24dcc33",
   "metadata": {},
   "outputs": [],
   "source": [
    "# Create a Polygon object\n",
    "polygon = Polygon([(0, 0), (0, 1), (1, 1), (1, 0)])\n",
    "\n",
    "# Create a MultiPolygon object\n",
    "multipolygon = MultiPolygon([Polygon([(0, 0), (0, 1), (1, 1), (1, 0)]),\n",
    "                             Polygon([(1, 1), (1, 2), (2, 2), (2, 1)])])"
   ]
  },
  {
   "cell_type": "code",
   "execution_count": 5,
   "id": "76d240b4",
   "metadata": {},
   "outputs": [],
   "source": [
    "# Convert the Polygon and MultiPolygon objects to geopandas GeoDataFrame\n",
    "polygon_gdf = gpd.GeoDataFrame(geometry=[polygon])\n",
    "multipolygon_gdf = gpd.GeoDataFrame(geometry=[multipolygon])"
   ]
  },
  {
   "cell_type": "code",
   "execution_count": 6,
   "id": "e1787ba0",
   "metadata": {},
   "outputs": [
    {
     "data": {
      "text/html": [
       "<div>\n",
       "<style scoped>\n",
       "    .dataframe tbody tr th:only-of-type {\n",
       "        vertical-align: middle;\n",
       "    }\n",
       "\n",
       "    .dataframe tbody tr th {\n",
       "        vertical-align: top;\n",
       "    }\n",
       "\n",
       "    .dataframe thead th {\n",
       "        text-align: right;\n",
       "    }\n",
       "</style>\n",
       "<table border=\"1\" class=\"dataframe\">\n",
       "  <thead>\n",
       "    <tr style=\"text-align: right;\">\n",
       "      <th></th>\n",
       "      <th>geometry</th>\n",
       "    </tr>\n",
       "  </thead>\n",
       "  <tbody>\n",
       "    <tr>\n",
       "      <th>0</th>\n",
       "      <td>POLYGON ((0.00000 0.00000, 0.00000 1.00000, 1....</td>\n",
       "    </tr>\n",
       "  </tbody>\n",
       "</table>\n",
       "</div>"
      ],
      "text/plain": [
       "                                            geometry\n",
       "0  POLYGON ((0.00000 0.00000, 0.00000 1.00000, 1...."
      ]
     },
     "metadata": {},
     "output_type": "display_data"
    }
   ],
   "source": [
    "display(polygon_gdf)"
   ]
  },
  {
   "cell_type": "code",
   "execution_count": 7,
   "id": "fc7572c2",
   "metadata": {},
   "outputs": [
    {
     "data": {
      "text/html": [
       "<div>\n",
       "<style scoped>\n",
       "    .dataframe tbody tr th:only-of-type {\n",
       "        vertical-align: middle;\n",
       "    }\n",
       "\n",
       "    .dataframe tbody tr th {\n",
       "        vertical-align: top;\n",
       "    }\n",
       "\n",
       "    .dataframe thead th {\n",
       "        text-align: right;\n",
       "    }\n",
       "</style>\n",
       "<table border=\"1\" class=\"dataframe\">\n",
       "  <thead>\n",
       "    <tr style=\"text-align: right;\">\n",
       "      <th></th>\n",
       "      <th>geometry</th>\n",
       "    </tr>\n",
       "  </thead>\n",
       "  <tbody>\n",
       "    <tr>\n",
       "      <th>0</th>\n",
       "      <td>MULTIPOLYGON (((0.00000 0.00000, 0.00000 1.000...</td>\n",
       "    </tr>\n",
       "  </tbody>\n",
       "</table>\n",
       "</div>"
      ],
      "text/plain": [
       "                                            geometry\n",
       "0  MULTIPOLYGON (((0.00000 0.00000, 0.00000 1.000..."
      ]
     },
     "metadata": {},
     "output_type": "display_data"
    }
   ],
   "source": [
    "display(multipolygon_gdf)"
   ]
  },
  {
   "cell_type": "code",
   "execution_count": 8,
   "id": "88b32e5a",
   "metadata": {},
   "outputs": [
    {
     "name": "stdout",
     "output_type": "stream",
     "text": [
      "Polygon Area: 1.0\n",
      "MultiPolygon Area: 2.0\n"
     ]
    }
   ],
   "source": [
    "# Calculate the area of the Polygon/MultiPolygon\n",
    "polygon_area = polygon_gdf.area.values[0]\n",
    "multipolygon_area = multipolygon_gdf.area.values[0]\n",
    "\n",
    "print(\"Polygon Area:\", polygon_area)\n",
    "print(\"MultiPolygon Area:\", multipolygon_area)"
   ]
  },
  {
   "cell_type": "code",
   "execution_count": 9,
   "id": "ae4c2520",
   "metadata": {},
   "outputs": [
    {
     "name": "stdout",
     "output_type": "stream",
     "text": [
      "Polygon Perimeter: 4.0\n",
      "MultiPolygon Perimeter: 8.0\n"
     ]
    }
   ],
   "source": [
    "# Calculate the perimeter of the Polygon/MultiPolygon\n",
    "polygon_perimeter = polygon_gdf.length.values[0]\n",
    "multipolygon_perimeter = multipolygon_gdf.length.values[0]\n",
    "\n",
    "print(\"Polygon Perimeter:\", polygon_perimeter)\n",
    "print(\"MultiPolygon Perimeter:\", multipolygon_perimeter)"
   ]
  },
  {
   "cell_type": "code",
   "execution_count": 10,
   "id": "14069b0d",
   "metadata": {},
   "outputs": [
    {
     "name": "stdout",
     "output_type": "stream",
     "text": [
      "Polygon Centroid: POINT (0.5 0.5)\n",
      "MultiPolygon Centroid: POINT (1 1)\n"
     ]
    }
   ],
   "source": [
    "# Calculate the centroid of the Polygon/MultiPolygon\n",
    "polygon_centroid = polygon_gdf.centroid.values[0]\n",
    "multipolygon_centroid = multipolygon_gdf.centroid.values[0]\n",
    "\n",
    "print(\"Polygon Centroid:\", polygon_centroid)\n",
    "print(\"MultiPolygon Centroid:\", multipolygon_centroid)"
   ]
  },
  {
   "cell_type": "code",
   "execution_count": 11,
   "id": "70f5103e",
   "metadata": {},
   "outputs": [
    {
     "name": "stdout",
     "output_type": "stream",
     "text": [
      "Polygon Bounds: [0. 0. 1. 1.]\n",
      "MultiPolygon Bounds: [0. 0. 2. 2.]\n"
     ]
    }
   ],
   "source": [
    "# Calculate the bounding box of the Polygon/MultiPolygon\n",
    "polygon_bounds = polygon_gdf.bounds.values[0]\n",
    "multipolygon_bounds = multipolygon_gdf.bounds.values[0]\n",
    "\n",
    "print(\"Polygon Bounds:\", polygon_bounds)\n",
    "print(\"MultiPolygon Bounds:\", multipolygon_bounds)"
   ]
  },
  {
   "cell_type": "code",
   "execution_count": 12,
   "id": "66186733",
   "metadata": {},
   "outputs": [
    {
     "name": "stdout",
     "output_type": "stream",
     "text": [
      "Polygon - Point Distance: 1.0\n"
     ]
    }
   ],
   "source": [
    "# Calculate the distance between a Polygon and a point\n",
    "point = Point(2, 1)\n",
    "polygon_distance = polygon_gdf.distance(point).values[0]\n",
    "\n",
    "print(\"Polygon - Point Distance:\", polygon_distance)"
   ]
  },
  {
   "cell_type": "code",
   "execution_count": 13,
   "id": "dbfeaf5d",
   "metadata": {},
   "outputs": [
    {
     "name": "stdout",
     "output_type": "stream",
     "text": [
      "Polygon - Polygon Distance: 1.4142135623730951\n"
     ]
    }
   ],
   "source": [
    "# Calculate the distance between two Polygons\n",
    "polygon2 = Polygon([(2, 2), (2, 3), (3, 3), (3, 2)])\n",
    "polygon_distance = polygon_gdf.distance(polygon2).values[0]\n",
    "\n",
    "print(\"Polygon - Polygon Distance:\", polygon_distance)"
   ]
  },
  {
   "cell_type": "code",
   "execution_count": 14,
   "id": "e76aa522",
   "metadata": {},
   "outputs": [
    {
     "name": "stdout",
     "output_type": "stream",
     "text": [
      "Intersection: 0    POLYGON ((1.00000 1.00000, 1.00000 0.66667, 0....\n",
      "dtype: geometry\n"
     ]
    }
   ],
   "source": [
    "# Calculate the intersection between two Polygons\n",
    "polygon3 = Polygon([(0, 0), (2, 3), (3, 3), (3, 2)])\n",
    "intersection = polygon_gdf.intersection(polygon3)\n",
    "\n",
    "print(\"Intersection:\", intersection)"
   ]
  },
  {
   "cell_type": "code",
   "execution_count": 15,
   "id": "2399ddca",
   "metadata": {},
   "outputs": [
    {
     "name": "stdout",
     "output_type": "stream",
     "text": [
      "Union: 0    MULTIPOLYGON (((0.00000 0.00000, 0.00000 1.000...\n",
      "dtype: geometry\n"
     ]
    }
   ],
   "source": [
    "# Calculate the union of two Polygons\n",
    "union = polygon_gdf.union(polygon2)\n",
    "\n",
    "print(\"Union:\", union)"
   ]
  },
  {
   "cell_type": "code",
   "execution_count": 16,
   "id": "0b71ad70",
   "metadata": {},
   "outputs": [
    {
     "name": "stdout",
     "output_type": "stream",
     "text": [
      "Difference: 0    POLYGON ((0.00000 1.00000, 1.00000 1.00000, 1....\n",
      "dtype: geometry\n"
     ]
    }
   ],
   "source": [
    "# Calculate the difference between two Polygons\n",
    "difference = polygon_gdf.difference(polygon2)\n",
    "\n",
    "print(\"Difference:\", difference)"
   ]
  },
  {
   "cell_type": "code",
   "execution_count": 17,
   "id": "4cb67126",
   "metadata": {},
   "outputs": [
    {
     "name": "stdout",
     "output_type": "stream",
     "text": [
      "Simplified Polygon: POLYGON ((0 0, 0 1, 1 1, 1 0, 0 0))\n",
      "Simplified MultiPolygon: MULTIPOLYGON (((0 0, 0 1, 1 1, 1 0, 0 0)), ((1 1, 1 2, 2 2, 2 1, 1 1)))\n"
     ]
    }
   ],
   "source": [
    "# Simplify the Polygon/MultiPolygon\n",
    "simplified_polygon = polygon.simplify(0.5)\n",
    "simplified_multipolygon = multipolygon.simplify(0.5)\n",
    "\n",
    "print(\"Simplified Polygon:\", simplified_polygon)\n",
    "print(\"Simplified MultiPolygon:\", simplified_multipolygon)"
   ]
  },
  {
   "cell_type": "code",
   "execution_count": 18,
   "id": "a179b808",
   "metadata": {},
   "outputs": [
    {
     "name": "stdout",
     "output_type": "stream",
     "text": [
      "Convex Hull: 0    POLYGON ((0.00000 0.00000, 0.00000 1.00000, 1....\n",
      "dtype: geometry\n"
     ]
    }
   ],
   "source": [
    "# Create a Polygon object\n",
    "polygon = Polygon([(0, 0), (0, 1), (1, 1), (1, 0)])\n",
    "polygon_gdf = gpd.GeoDataFrame(geometry=[polygon])\n",
    "# Calculate the convex hull of the Polygon\n",
    "convex_hull = polygon_gdf.convex_hull\n",
    "print(\"Convex Hull:\", convex_hull)"
   ]
  },
  {
   "cell_type": "code",
   "execution_count": 19,
   "id": "925634ea",
   "metadata": {},
   "outputs": [
    {
     "name": "stdout",
     "output_type": "stream",
     "text": [
      "Polygon Buffer: 0    POLYGON ((0.00000 -0.50000, -0.04901 -0.49759,...\n",
      "dtype: geometry\n",
      "MultiPolygon Buffer: 0    POLYGON ((0.00000 -0.50000, -0.04901 -0.49759,...\n",
      "dtype: geometry\n"
     ]
    }
   ],
   "source": [
    "# Create a Polygon object\n",
    "polygon = Polygon([(0, 0), (0, 1), (1, 1), (1, 0)])\n",
    "# Create a MultiPolygon object\n",
    "multipolygon = MultiPolygon([Polygon([(0, 0), (0, 1), (1, 1), (1, 0)]),\n",
    "                             Polygon([(1, 1), (1, 2), (2, 2), (2, 1)])])\n",
    "# Convert the Polygon and MultiPolygon objects to geopandas GeoDataFrames\n",
    "polygon_gdf = gpd.GeoDataFrame(geometry=[polygon])\n",
    "multipolygon_gdf = gpd.GeoDataFrame(geometry=[multipolygon])\n",
    "# Create a buffer around the Polygon\n",
    "polygon_buffer = polygon_gdf.buffer(0.5)\n",
    "# Create a buffer around the MultiPolygon\n",
    "multipolygon_buffer = multipolygon_gdf.buffer(0.5)\n",
    "\n",
    "print(\"Polygon Buffer:\", polygon_buffer)\n",
    "print(\"MultiPolygon Buffer:\", multipolygon_buffer)"
   ]
  }
 ],
 "metadata": {
  "kernelspec": {
   "display_name": "Python 3 (ipykernel)",
   "language": "python",
   "name": "python3"
  },
  "language_info": {
   "codemirror_mode": {
    "name": "ipython",
    "version": 3
   },
   "file_extension": ".py",
   "mimetype": "text/x-python",
   "name": "python",
   "nbconvert_exporter": "python",
   "pygments_lexer": "ipython3",
   "version": "3.9.13"
  }
 },
 "nbformat": 4,
 "nbformat_minor": 5
}
