{
 "cells": [
  {
   "cell_type": "code",
   "execution_count": 1,
   "id": "14bcbd86",
   "metadata": {},
   "outputs": [],
   "source": [
    "import geopandas as gpd\n",
    "from shapely.geometry import Point, LineString"
   ]
  },
  {
   "cell_type": "code",
   "execution_count": 2,
   "id": "55d0c1a3",
   "metadata": {},
   "outputs": [],
   "source": [
    "# Create sample geometries\n",
    "polygon1 = gpd.GeoSeries([Point(0, 0).buffer(1)])\n",
    "polygon2 = gpd.GeoSeries([Point(1, 1).buffer(1)])\n",
    "line1 = gpd.GeoSeries([LineString([(0, 0), (2, 2)])])\n",
    "line2 = gpd.GeoSeries([LineString([(0, 2), (2, 0)])])"
   ]
  },
  {
   "cell_type": "code",
   "execution_count": 3,
   "id": "600974ac",
   "metadata": {},
   "outputs": [],
   "source": [
    "# Create GeoDataFrames\n",
    "gdf1 = gpd.GeoDataFrame(geometry=polygon1, columns=['geometry'])\n",
    "gdf2 = gpd.GeoDataFrame(geometry=polygon2, columns=['geometry'])\n",
    "gdf_line1 = gpd.GeoDataFrame(geometry=line1, columns=['geometry'])\n",
    "gdf_line2 = gpd.GeoDataFrame(geometry=line2, columns=['geometry'])"
   ]
  },
  {
   "cell_type": "code",
   "execution_count": 4,
   "id": "8a59ff7f",
   "metadata": {},
   "outputs": [
    {
     "name": "stdout",
     "output_type": "stream",
     "text": [
      "Covers: 0    False\n",
      "dtype: bool\n"
     ]
    }
   ],
   "source": [
    "# Covers: Determines if one geometry covers another geometry\n",
    "print(\"Covers:\", gdf1.geometry.covers(gdf2.geometry))"
   ]
  },
  {
   "cell_type": "code",
   "execution_count": 5,
   "id": "a8366f28",
   "metadata": {},
   "outputs": [
    {
     "name": "stdout",
     "output_type": "stream",
     "text": [
      "Covered by: 0    False\n",
      "dtype: bool\n"
     ]
    }
   ],
   "source": [
    "# Covered by: Determines if one geometry is covered by another geometry\n",
    "print(\"Covered by:\", gdf2.geometry.covered_by(gdf1.geometry))"
   ]
  },
  {
   "cell_type": "code",
   "execution_count": 6,
   "id": "b8a6ced5",
   "metadata": {},
   "outputs": [
    {
     "name": "stdout",
     "output_type": "stream",
     "text": [
      "Crosses: 0    True\n",
      "dtype: bool\n"
     ]
    }
   ],
   "source": [
    "# Crosses: Determines if two line geometries cross each other\n",
    "print(\"Crosses:\", gdf_line1.geometry.crosses(gdf_line2.geometry))"
   ]
  },
  {
   "cell_type": "code",
   "execution_count": 7,
   "id": "a2faa472",
   "metadata": {},
   "outputs": [
    {
     "name": "stdout",
     "output_type": "stream",
     "text": [
      "Disjoint: 0    False\n",
      "dtype: bool\n"
     ]
    }
   ],
   "source": [
    "# Disjoint: Determines if two geometries are disjoint\n",
    "print(\"Disjoint:\", gdf1.geometry.disjoint(gdf2.geometry))"
   ]
  },
  {
   "cell_type": "code",
   "execution_count": 8,
   "id": "e04e6e4f",
   "metadata": {},
   "outputs": [
    {
     "name": "stdout",
     "output_type": "stream",
     "text": [
      "Equals: False\n"
     ]
    }
   ],
   "source": [
    "# Equals: Determines if two geometries are exactly equal\n",
    "print(\"Equals:\", gdf1.geometry.equals(gdf2.geometry))"
   ]
  },
  {
   "cell_type": "code",
   "execution_count": 9,
   "id": "73441d07",
   "metadata": {},
   "outputs": [
    {
     "name": "stdout",
     "output_type": "stream",
     "text": [
      "geom_equals(): 0    False\n",
      "dtype: bool\n"
     ]
    }
   ],
   "source": [
    "# geom_equals(): Determines if two geometries are equal\n",
    "print(\"geom_equals():\", gdf1.geometry.geom_equals(gdf2.geometry))"
   ]
  },
  {
   "cell_type": "code",
   "execution_count": 10,
   "id": "ae5629e0",
   "metadata": {},
   "outputs": [
    {
     "name": "stdout",
     "output_type": "stream",
     "text": [
      "geom_almost_equals(): 0    False\n",
      "dtype: bool\n"
     ]
    }
   ],
   "source": [
    "# geom_almost_equals(): Determines if two geometries are almost equal within a specified tolerance\n",
    "print(\"geom_almost_equals():\", gdf1.geometry.geom_almost_equals(gdf2.geometry, decimal=2))"
   ]
  },
  {
   "cell_type": "code",
   "execution_count": 11,
   "id": "77b270ac",
   "metadata": {},
   "outputs": [
    {
     "name": "stdout",
     "output_type": "stream",
     "text": [
      "geom_equals_exact(): 0    False\n",
      "dtype: bool\n"
     ]
    }
   ],
   "source": [
    "# geom_equals_exact(): Determines if two geometries are exactly equal within a specified tolerance\n",
    "print(\"geom_equals_exact():\", gdf1.geometry.geom_equals_exact(gdf2.geometry, tolerance=0.01))"
   ]
  },
  {
   "cell_type": "code",
   "execution_count": 12,
   "id": "c18b00dc",
   "metadata": {},
   "outputs": [
    {
     "name": "stdout",
     "output_type": "stream",
     "text": [
      "Intersects: 0    True\n",
      "dtype: bool\n"
     ]
    }
   ],
   "source": [
    "# Intersects: Determines if two geometries have any spatial intersection\n",
    "print(\"Intersects:\", gdf1.geometry.intersects(gdf2.geometry))"
   ]
  },
  {
   "cell_type": "code",
   "execution_count": 13,
   "id": "e3f284bd",
   "metadata": {
    "scrolled": true
   },
   "outputs": [
    {
     "name": "stdout",
     "output_type": "stream",
     "text": [
      "Overlaps: 0    True\n",
      "dtype: bool\n"
     ]
    }
   ],
   "source": [
    "# Overlaps: Determines if two geometries have a spatial overlap\n",
    "print(\"Overlaps:\", gdf1.geometry.overlaps(gdf2.geometry))"
   ]
  },
  {
   "cell_type": "code",
   "execution_count": 14,
   "id": "441a9826",
   "metadata": {},
   "outputs": [
    {
     "name": "stdout",
     "output_type": "stream",
     "text": [
      "Touches: 0    False\n",
      "dtype: bool\n"
     ]
    }
   ],
   "source": [
    "# Touches: Determines if two geometries touch at a single point\n",
    "print(\"Touches:\", gdf1.geometry.touches(gdf2.geometry))"
   ]
  },
  {
   "cell_type": "code",
   "execution_count": 15,
   "id": "107f0330",
   "metadata": {},
   "outputs": [
    {
     "name": "stdout",
     "output_type": "stream",
     "text": [
      "Within: 0    False\n",
      "dtype: bool\n"
     ]
    }
   ],
   "source": [
    "# Within: Determines if one geometry is within another geometry\n",
    "print(\"Within:\", gdf1.geometry.within(gdf2.geometry))"
   ]
  },
  {
   "cell_type": "code",
   "execution_count": 16,
   "id": "576a4086",
   "metadata": {},
   "outputs": [
    {
     "name": "stdout",
     "output_type": "stream",
     "text": [
      "Symmetric difference: 0    MULTIPOLYGON (((0.99518 -0.09802, 0.98079 -0.1...\n",
      "dtype: geometry\n"
     ]
    }
   ],
   "source": [
    "# Symmetric difference\n",
    "sym_diff = gdf1.geometry.symmetric_difference(gdf2.geometry)\n",
    "print(\"Symmetric difference:\", sym_diff)"
   ]
  }
 ],
 "metadata": {
  "kernelspec": {
   "display_name": "Python 3 (ipykernel)",
   "language": "python",
   "name": "python3"
  },
  "language_info": {
   "codemirror_mode": {
    "name": "ipython",
    "version": 3
   },
   "file_extension": ".py",
   "mimetype": "text/x-python",
   "name": "python",
   "nbconvert_exporter": "python",
   "pygments_lexer": "ipython3",
   "version": "3.9.13"
  }
 },
 "nbformat": 4,
 "nbformat_minor": 5
}
