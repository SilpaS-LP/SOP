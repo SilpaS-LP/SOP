{
 "cells": [
  {
   "cell_type": "code",
   "execution_count": 1,
   "id": "4058ab24",
   "metadata": {},
   "outputs": [],
   "source": [
    "import geopandas as gpd\n",
    "from shapely.geometry import Point"
   ]
  },
  {
   "cell_type": "code",
   "execution_count": 2,
   "id": "df952c9a",
   "metadata": {},
   "outputs": [],
   "source": [
    "# Create a GeoDataFrame with a single Point geometry\n",
    "data = {'Name': ['Point 1', 'Point 2'],\n",
    "        'Longitude': [-122.42, -122.4],\n",
    "        'Latitude': [37.78, 37.79]}\n",
    "df = gpd.GeoDataFrame(data, geometry=gpd.points_from_xy(data['Longitude'], data['Latitude']))"
   ]
  },
  {
   "cell_type": "code",
   "execution_count": 3,
   "id": "5d42c09d",
   "metadata": {},
   "outputs": [
    {
     "data": {
      "text/html": [
       "<div>\n",
       "<style scoped>\n",
       "    .dataframe tbody tr th:only-of-type {\n",
       "        vertical-align: middle;\n",
       "    }\n",
       "\n",
       "    .dataframe tbody tr th {\n",
       "        vertical-align: top;\n",
       "    }\n",
       "\n",
       "    .dataframe thead th {\n",
       "        text-align: right;\n",
       "    }\n",
       "</style>\n",
       "<table border=\"1\" class=\"dataframe\">\n",
       "  <thead>\n",
       "    <tr style=\"text-align: right;\">\n",
       "      <th></th>\n",
       "      <th>Name</th>\n",
       "      <th>Longitude</th>\n",
       "      <th>Latitude</th>\n",
       "      <th>geometry</th>\n",
       "    </tr>\n",
       "  </thead>\n",
       "  <tbody>\n",
       "    <tr>\n",
       "      <th>0</th>\n",
       "      <td>Point 1</td>\n",
       "      <td>-122.42</td>\n",
       "      <td>37.78</td>\n",
       "      <td>POINT (-122.42000 37.78000)</td>\n",
       "    </tr>\n",
       "    <tr>\n",
       "      <th>1</th>\n",
       "      <td>Point 2</td>\n",
       "      <td>-122.40</td>\n",
       "      <td>37.79</td>\n",
       "      <td>POINT (-122.40000 37.79000)</td>\n",
       "    </tr>\n",
       "  </tbody>\n",
       "</table>\n",
       "</div>"
      ],
      "text/plain": [
       "      Name  Longitude  Latitude                     geometry\n",
       "0  Point 1    -122.42     37.78  POINT (-122.42000 37.78000)\n",
       "1  Point 2    -122.40     37.79  POINT (-122.40000 37.79000)"
      ]
     },
     "execution_count": 3,
     "metadata": {},
     "output_type": "execute_result"
    }
   ],
   "source": [
    "df"
   ]
  },
  {
   "cell_type": "code",
   "execution_count": 4,
   "id": "1c6a8e40",
   "metadata": {},
   "outputs": [],
   "source": [
    "# Accessing X and Y coordinates of a point\n",
    "df['X Coordinate'] = df['geometry'].x\n",
    "df['Y Coordinate'] = df['geometry'].y"
   ]
  },
  {
   "cell_type": "code",
   "execution_count": 5,
   "id": "8cedb852",
   "metadata": {},
   "outputs": [
    {
     "data": {
      "text/html": [
       "<div>\n",
       "<style scoped>\n",
       "    .dataframe tbody tr th:only-of-type {\n",
       "        vertical-align: middle;\n",
       "    }\n",
       "\n",
       "    .dataframe tbody tr th {\n",
       "        vertical-align: top;\n",
       "    }\n",
       "\n",
       "    .dataframe thead th {\n",
       "        text-align: right;\n",
       "    }\n",
       "</style>\n",
       "<table border=\"1\" class=\"dataframe\">\n",
       "  <thead>\n",
       "    <tr style=\"text-align: right;\">\n",
       "      <th></th>\n",
       "      <th>Name</th>\n",
       "      <th>Longitude</th>\n",
       "      <th>Latitude</th>\n",
       "      <th>geometry</th>\n",
       "      <th>X Coordinate</th>\n",
       "      <th>Y Coordinate</th>\n",
       "    </tr>\n",
       "  </thead>\n",
       "  <tbody>\n",
       "    <tr>\n",
       "      <th>0</th>\n",
       "      <td>Point 1</td>\n",
       "      <td>-122.42</td>\n",
       "      <td>37.78</td>\n",
       "      <td>POINT (-122.42000 37.78000)</td>\n",
       "      <td>-122.42</td>\n",
       "      <td>37.78</td>\n",
       "    </tr>\n",
       "    <tr>\n",
       "      <th>1</th>\n",
       "      <td>Point 2</td>\n",
       "      <td>-122.40</td>\n",
       "      <td>37.79</td>\n",
       "      <td>POINT (-122.40000 37.79000)</td>\n",
       "      <td>-122.40</td>\n",
       "      <td>37.79</td>\n",
       "    </tr>\n",
       "  </tbody>\n",
       "</table>\n",
       "</div>"
      ],
      "text/plain": [
       "      Name  Longitude  Latitude                     geometry  X Coordinate  \\\n",
       "0  Point 1    -122.42     37.78  POINT (-122.42000 37.78000)       -122.42   \n",
       "1  Point 2    -122.40     37.79  POINT (-122.40000 37.79000)       -122.40   \n",
       "\n",
       "   Y Coordinate  \n",
       "0         37.78  \n",
       "1         37.79  "
      ]
     },
     "execution_count": 5,
     "metadata": {},
     "output_type": "execute_result"
    }
   ],
   "source": [
    "df"
   ]
  },
  {
   "cell_type": "code",
   "execution_count": 6,
   "id": "bdaf5273",
   "metadata": {},
   "outputs": [
    {
     "name": "stdout",
     "output_type": "stream",
     "text": [
      "Distance between Point 1 and Point 2: 0.02236067977499345\n"
     ]
    }
   ],
   "source": [
    "# Calculating distance between two points\n",
    "point1 = df['geometry'].iloc[0]\n",
    "point2 = df['geometry'].iloc[1]\n",
    "distance = point1.distance(point2)\n",
    "print('Distance between Point 1 and Point 2:', distance)"
   ]
  }
 ],
 "metadata": {
  "kernelspec": {
   "display_name": "Python 3 (ipykernel)",
   "language": "python",
   "name": "python3"
  },
  "language_info": {
   "codemirror_mode": {
    "name": "ipython",
    "version": 3
   },
   "file_extension": ".py",
   "mimetype": "text/x-python",
   "name": "python",
   "nbconvert_exporter": "python",
   "pygments_lexer": "ipython3",
   "version": "3.9.13"
  }
 },
 "nbformat": 4,
 "nbformat_minor": 5
}
